{
  "cells": [
    {
      "cell_type": "markdown",
      "metadata": {
        "id": "view-in-github",
        "colab_type": "text"
      },
      "source": [
        "<a href=\"https://colab.research.google.com/github/rashwinr/Python-Roadmap/blob/main/.ipynb_checkpoints/1_Python%20Introduction-checkpoint.ipynb\" target=\"_parent\"><img src=\"https://colab.research.google.com/assets/colab-badge.svg\" alt=\"Open In Colab\"/></a>"
      ]
    },
    {
      "cell_type": "markdown",
      "metadata": {
        "id": "Tdf6g4-pS9zU"
      },
      "source": [
        "# 1 | Introduction and Basics\n",
        "\n",
        "<a href=\"https://hemansnation.hashnode.dev/start-with-this-if-you-are-a-python-beginner\">First session Theory</a>\n",
        "\n",
        "1. Installation\n",
        "2. Python Org, Python 3\n",
        "3. Variables\n",
        "4. Print function\n",
        "5. Input from user\n",
        "6. Data Types\n",
        "7. Type Conversion\n",
        "8. First Program\n"
      ]
    },
    {
      "cell_type": "code",
      "execution_count": null,
      "metadata": {
        "id": "2vsTFNPYS9zZ",
        "outputId": "17857689-c7e8-4546-eef6-be30ef4af948"
      },
      "outputs": [
        {
          "name": "stdout",
          "output_type": "stream",
          "text": [
            "Hello World\n"
          ]
        }
      ],
      "source": [
        "print(\"Hello World\")"
      ]
    },
    {
      "cell_type": "code",
      "execution_count": null,
      "metadata": {
        "id": "6uYTM4FXS9zb",
        "outputId": "3dfb5462-a4af-485e-b9d7-f0dd44adc94a"
      },
      "outputs": [
        {
          "name": "stdout",
          "output_type": "stream",
          "text": [
            "Hello\n",
            "World\n"
          ]
        }
      ],
      "source": [
        "# \\n - new line character\n",
        "\n",
        "print(\"Hello\\nWorld\")"
      ]
    },
    {
      "cell_type": "code",
      "execution_count": null,
      "metadata": {
        "id": "LlTGUeAwS9zc",
        "outputId": "fc788113-d5ea-4e97-ac15-56010be4e56f"
      },
      "outputs": [
        {
          "name": "stdout",
          "output_type": "stream",
          "text": [
            "Hello\tWorld\n"
          ]
        }
      ],
      "source": [
        "# \\t - horizontal tab\n",
        "\n",
        "print(\"Hello\\tWorld\")"
      ]
    },
    {
      "cell_type": "markdown",
      "metadata": {
        "id": "a5tdNJOQS9zc"
      },
      "source": [
        "## Basic Questions"
      ]
    },
    {
      "cell_type": "code",
      "execution_count": null,
      "metadata": {
        "id": "l8rqlr6TS9zc"
      },
      "outputs": [],
      "source": [
        "name\n",
        "    college\n",
        "            city"
      ]
    },
    {
      "cell_type": "code",
      "execution_count": 1,
      "metadata": {
        "id": "nmBGqUViS9zd",
        "outputId": "35bddb5c-6e5e-4647-9197-0270e086550b",
        "colab": {
          "base_uri": "https://localhost:8080/"
        }
      },
      "outputs": [
        {
          "output_type": "stream",
          "name": "stdout",
          "text": [
            "Ashwin\n",
            "\tRajKumar\n",
            "\t\tSalem\n"
          ]
        }
      ],
      "source": [
        "print(\"Ashwin\\n\\tRajKumar\\n\\t\\tSalem\")"
      ]
    },
    {
      "cell_type": "code",
      "execution_count": 2,
      "metadata": {
        "id": "06ysmNPjS9zd",
        "outputId": "60ef738a-cfab-48e3-a600-7c67ccf88662",
        "colab": {
          "base_uri": "https://localhost:8080/",
          "height": 131
        }
      },
      "outputs": [
        {
          "output_type": "error",
          "ename": "SyntaxError",
          "evalue": "ignored",
          "traceback": [
            "\u001b[0;36m  File \u001b[0;32m\"<ipython-input-2-78166756f0d3>\"\u001b[0;36m, line \u001b[0;32m1\u001b[0m\n\u001b[0;31m    *\u001b[0m\n\u001b[0m     ^\u001b[0m\n\u001b[0;31mSyntaxError\u001b[0m\u001b[0;31m:\u001b[0m invalid syntax\n"
          ]
        }
      ],
      "source": [
        "*\n",
        "**\n",
        "***"
      ]
    },
    {
      "cell_type": "code",
      "execution_count": 3,
      "metadata": {
        "id": "GMSdUwnzS9zd",
        "outputId": "a985eb51-03bb-47aa-a4ff-d74390bac5c0",
        "colab": {
          "base_uri": "https://localhost:8080/"
        }
      },
      "outputs": [
        {
          "output_type": "stream",
          "name": "stdout",
          "text": [
            "*\n",
            "**\n",
            "***\n"
          ]
        }
      ],
      "source": [
        "print(\"*\\n**\\n***\")"
      ]
    },
    {
      "cell_type": "code",
      "execution_count": null,
      "metadata": {
        "id": "rLbuEUvlS9ze"
      },
      "outputs": [],
      "source": [
        "  *\n",
        "*   *\n",
        "  *"
      ]
    },
    {
      "cell_type": "code",
      "execution_count": 4,
      "metadata": {
        "id": "Cy0E5R32S9ze",
        "outputId": "577d0d63-a294-464f-a8d0-bb0ddfca0305",
        "colab": {
          "base_uri": "https://localhost:8080/"
        }
      },
      "outputs": [
        {
          "output_type": "stream",
          "name": "stdout",
          "text": [
            "    *\n",
            "*\t*\n",
            "    *\n"
          ]
        }
      ],
      "source": [
        "print(\"    *\\n*\\t*\\n    *\")"
      ]
    },
    {
      "cell_type": "markdown",
      "metadata": {
        "id": "bNQd7jiAS9ze"
      },
      "source": [
        "# Variables"
      ]
    },
    {
      "cell_type": "code",
      "execution_count": null,
      "metadata": {
        "id": "YuYUPMKFS9ze",
        "outputId": "b3078db3-f2dc-4521-c7bb-9560365dfa41"
      },
      "outputs": [
        {
          "name": "stdout",
          "output_type": "stream",
          "text": [
            "10\n"
          ]
        }
      ],
      "source": [
        "a = 10\n",
        "\n",
        "print(a)"
      ]
    },
    {
      "cell_type": "code",
      "execution_count": null,
      "metadata": {
        "id": "2QRiRkKyS9zf",
        "outputId": "0d953525-f598-4d48-e941-319a0ff28fc6"
      },
      "outputs": [
        {
          "name": "stdout",
          "output_type": "stream",
          "text": [
            "10.5\n"
          ]
        }
      ],
      "source": [
        "b = 10.5\n",
        "\n",
        "print(b)"
      ]
    },
    {
      "cell_type": "code",
      "execution_count": null,
      "metadata": {
        "id": "Vx5lUTXLS9zf",
        "outputId": "ba9a5083-c0a0-4280-83a5-58b015d9ab56"
      },
      "outputs": [
        {
          "name": "stdout",
          "output_type": "stream",
          "text": [
            "Indore\n"
          ]
        }
      ],
      "source": [
        "c = \"Indore\"\n",
        "\n",
        "print(c)"
      ]
    },
    {
      "cell_type": "markdown",
      "metadata": {
        "id": "rX_XGejMS9zf"
      },
      "source": [
        "## type function"
      ]
    },
    {
      "cell_type": "code",
      "execution_count": null,
      "metadata": {
        "id": "ezMhoV4NS9zg",
        "outputId": "ae7e4a4a-6fb2-4505-9665-2cc602d4b779"
      },
      "outputs": [
        {
          "name": "stdout",
          "output_type": "stream",
          "text": [
            "10\n",
            "<class 'int'>\n"
          ]
        }
      ],
      "source": [
        "print(a)\n",
        "\n",
        "print(type(a))"
      ]
    },
    {
      "cell_type": "code",
      "execution_count": null,
      "metadata": {
        "id": "AeNFyG0hS9zg",
        "outputId": "06448a20-23c4-4edc-f50b-cd54591fac41"
      },
      "outputs": [
        {
          "name": "stdout",
          "output_type": "stream",
          "text": [
            "10.5\n",
            "<class 'float'>\n"
          ]
        }
      ],
      "source": [
        "print(b)\n",
        "\n",
        "print(type(b))"
      ]
    },
    {
      "cell_type": "code",
      "execution_count": null,
      "metadata": {
        "id": "4Twg6zlTS9zh",
        "outputId": "9e9654ae-a24c-4e10-b249-308452f56874"
      },
      "outputs": [
        {
          "name": "stdout",
          "output_type": "stream",
          "text": [
            "Indore\n",
            "<class 'str'>\n"
          ]
        }
      ],
      "source": [
        "print(c)\n",
        "\n",
        "print(type(c))"
      ]
    },
    {
      "cell_type": "code",
      "execution_count": null,
      "metadata": {
        "id": "8R0pJoVRS9zh",
        "outputId": "3aa07d50-eab7-45ba-937d-b4d749119404"
      },
      "outputs": [
        {
          "name": "stdout",
          "output_type": "stream",
          "text": [
            "15\n",
            "10\n"
          ]
        }
      ],
      "source": [
        "a = 10\n",
        "\n",
        "print(a + 5)\n",
        "\n",
        "print(a)"
      ]
    },
    {
      "cell_type": "markdown",
      "metadata": {
        "id": "GxS-8P6TS9zi"
      },
      "source": [
        "# User Input"
      ]
    },
    {
      "cell_type": "code",
      "execution_count": 5,
      "metadata": {
        "id": "RBGDT2VLS9zi",
        "outputId": "94034be3-17e7-459f-b2d7-f6a13f307d01",
        "colab": {
          "base_uri": "https://localhost:8080/"
        }
      },
      "outputs": [
        {
          "output_type": "stream",
          "name": "stdout",
          "text": [
            "10\n",
            "10\n"
          ]
        }
      ],
      "source": [
        "x = input()\n",
        "#x = 10\n",
        "\n",
        "print(x)"
      ]
    },
    {
      "cell_type": "code",
      "execution_count": 6,
      "metadata": {
        "id": "gNj2-Ug-S9zi",
        "outputId": "a4786a28-8af1-4e81-b639-6b9d42e9e89a",
        "colab": {
          "base_uri": "https://localhost:8080/"
        }
      },
      "outputs": [
        {
          "output_type": "stream",
          "name": "stdout",
          "text": [
            "Enter Your Name: Ashwin RajKumar\n",
            "Ashwin RajKumar\n"
          ]
        }
      ],
      "source": [
        "x = input(\"Enter Your Name: \")\n",
        "\n",
        "print(x)"
      ]
    },
    {
      "cell_type": "code",
      "execution_count": 7,
      "metadata": {
        "id": "Xs9QqZXLS9zi",
        "outputId": "72abe7bc-8da3-4a20-8c75-98954293c2d3",
        "colab": {
          "base_uri": "https://localhost:8080/"
        }
      },
      "outputs": [
        {
          "output_type": "stream",
          "name": "stdout",
          "text": [
            "Enter Your Name: Ashwin RajKumar\n",
            "Hello Ashwin RajKumar\n"
          ]
        }
      ],
      "source": [
        "x = input(\"Enter Your Name: \")\n",
        "\n",
        "print(\"Hello\",x)"
      ]
    },
    {
      "cell_type": "markdown",
      "metadata": {
        "id": "SVPLDEkrS9zi"
      },
      "source": [
        "# First Program\n",
        "\n",
        "WAP to enter 2 numbers from user and print sum of them."
      ]
    },
    {
      "cell_type": "code",
      "execution_count": null,
      "metadata": {
        "id": "CTJWHcZkS9zj",
        "outputId": "956b8112-da15-4132-b33b-bcd1da0c1591"
      },
      "outputs": [
        {
          "name": "stdout",
          "output_type": "stream",
          "text": [
            "Enter 1st number: 10\n",
            "Enter 2nd number: 20\n",
            "1020\n"
          ]
        }
      ],
      "source": [
        "a = input(\"Enter 1st number: \")\n",
        "b = input(\"Enter 2nd number: \")\n",
        "\n",
        "c = a + b\n",
        "\n",
        "print(c)"
      ]
    },
    {
      "cell_type": "code",
      "execution_count": null,
      "metadata": {
        "id": "RHW1siyzS9zj",
        "outputId": "a800d274-a286-45b9-ee12-31691ca0d3ea"
      },
      "outputs": [
        {
          "data": {
            "text/plain": [
              "'1020'"
            ]
          },
          "execution_count": 23,
          "metadata": {},
          "output_type": "execute_result"
        }
      ],
      "source": [
        "\"10\" + \"20\""
      ]
    },
    {
      "cell_type": "code",
      "execution_count": null,
      "metadata": {
        "id": "Yr45Mg-cS9zj",
        "outputId": "db3d8f44-7f43-418e-9bd7-58de03b8eef6"
      },
      "outputs": [
        {
          "name": "stdout",
          "output_type": "stream",
          "text": [
            "<class 'str'>\n"
          ]
        }
      ],
      "source": [
        "print(type(a))"
      ]
    },
    {
      "cell_type": "markdown",
      "metadata": {
        "id": "pTz5dw2LS9zj"
      },
      "source": [
        "# Type Casting"
      ]
    },
    {
      "cell_type": "code",
      "execution_count": null,
      "metadata": {
        "id": "skLt7arfS9zj",
        "outputId": "1a6ba445-ad33-4a3d-99c6-2feab329ad85"
      },
      "outputs": [
        {
          "name": "stdout",
          "output_type": "stream",
          "text": [
            "<class 'float'>\n",
            "10\n",
            "<class 'int'>\n"
          ]
        }
      ],
      "source": [
        "a = 10.5\n",
        "print(type(a))\n",
        "\n",
        "b = int(a)\n",
        "\n",
        "print(b)\n",
        "print(type(b))"
      ]
    },
    {
      "cell_type": "code",
      "execution_count": null,
      "metadata": {
        "id": "W0meAwFqS9zj",
        "outputId": "666c9acf-9029-4f25-ef3e-4db13d5074c4"
      },
      "outputs": [
        {
          "name": "stdout",
          "output_type": "stream",
          "text": [
            "Enter 1st number: 10\n",
            "Enter 2nd number: 20\n",
            "30\n"
          ]
        }
      ],
      "source": [
        "a = int(input(\"Enter 1st number: \"))\n",
        "b = int(input(\"Enter 2nd number: \"))\n",
        "\n",
        "c = a + b\n",
        "\n",
        "print(c)"
      ]
    },
    {
      "cell_type": "code",
      "execution_count": null,
      "metadata": {
        "id": "XeZ7_Y66S9zk",
        "outputId": "bba32a37-ad34-49b0-ccc8-99598874ebfe"
      },
      "outputs": [
        {
          "name": "stdout",
          "output_type": "stream",
          "text": [
            "Enter 1st number: 10\n",
            "Enter 2nd number: 20\n",
            "Addition = 30\n"
          ]
        }
      ],
      "source": [
        "a = int(input(\"Enter 1st number: \"))\n",
        "b = int(input(\"Enter 2nd number: \"))\n",
        "\n",
        "c = a + b\n",
        "\n",
        "print(\"Addition =\",c)"
      ]
    },
    {
      "cell_type": "code",
      "execution_count": 12,
      "metadata": {
        "id": "tl8xs0ldS9zk",
        "outputId": "d08c3f6c-b3ed-4158-d411-aca31247c4ca",
        "colab": {
          "base_uri": "https://localhost:8080/"
        }
      },
      "outputs": [
        {
          "output_type": "stream",
          "name": "stdout",
          "text": [
            "/root\n"
          ]
        }
      ],
      "source": [
        "%cd"
      ]
    },
    {
      "cell_type": "code",
      "source": [
        "%ls\n",
        "!git status\n"
      ],
      "metadata": {
        "id": "uqBmoXIVVZXn",
        "outputId": "d1c6d776-5a16-4a24-d733-67a35ba3ec4f",
        "colab": {
          "base_uri": "https://localhost:8080/"
        }
      },
      "execution_count": 14,
      "outputs": [
        {
          "output_type": "stream",
          "name": "stdout",
          "text": [
            "fatal: not a git repository (or any of the parent directories): .git\n"
          ]
        }
      ]
    }
  ],
  "metadata": {
    "kernelspec": {
      "display_name": "Python 3",
      "language": "python",
      "name": "python3"
    },
    "language_info": {
      "codemirror_mode": {
        "name": "ipython",
        "version": 3
      },
      "file_extension": ".py",
      "mimetype": "text/x-python",
      "name": "python",
      "nbconvert_exporter": "python",
      "pygments_lexer": "ipython3",
      "version": "3.7.6"
    },
    "colab": {
      "provenance": [],
      "toc_visible": true,
      "include_colab_link": true
    }
  },
  "nbformat": 4,
  "nbformat_minor": 0
}